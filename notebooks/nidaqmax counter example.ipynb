{
 "cells": [
  {
   "cell_type": "code",
   "execution_count": 1,
   "id": "6c54b263",
   "metadata": {},
   "outputs": [],
   "source": [
    "import nidaqmx\n",
    "from nidaqmx.constants import AcquisitionType, Slope\n",
    "from nidaqmx.types import CtrTime"
   ]
  },
  {
   "cell_type": "code",
   "execution_count": 10,
   "id": "44ed771b",
   "metadata": {},
   "outputs": [],
   "source": [
    "# single timer exampel\n",
    "\n",
    "with nidaqmx.Task() as task:\n",
    "    ctr0 = task.co_channels.add_co_pulse_chan_freq('cDAQ1/_ctr0', freq=5.0, duty_cycle=0.1)\n",
    "    task.timing.cfg_implicit_timing(sample_mode=AcquisitionType.FINITE, samps_per_chan=20)\n",
    "    ctr0.co_pulse_term = '/cDAQ1/PFI0'\n",
    "    task.start()\n",
    "    task.wait_until_done()"
   ]
  },
  {
   "cell_type": "code",
   "execution_count": 7,
   "id": "eebc724b",
   "metadata": {},
   "outputs": [],
   "source": [
    "# two synced timers\n",
    "\n",
    "Ctr0 = nidaqmx.Task('Counter0')\n",
    "ctr0 = Ctr0.co_channels.add_co_pulse_chan_freq('cDAQ1/_ctr0', freq=5.0, duty_cycle=0.1)\n",
    "Ctr0.timing.cfg_implicit_timing(sample_mode=AcquisitionType.FINITE, samps_per_chan=10)\n",
    "ctr0.co_pulse_term = '/cDAQ1/PFI0'\n",
    "\n",
    "Ctr1 = nidaqmx.Task('Counter1')\n",
    "ctr1 = Ctr1.co_channels.add_co_pulse_chan_freq('cDAQ1/_ctr1', freq=10.0, duty_cycle=0.1)\n",
    "Ctr1.timing.cfg_implicit_timing(sample_mode=AcquisitionType.FINITE, samps_per_chan=20)\n",
    "Ctr1.triggers.start_trigger.cfg_dig_edge_start_trig(trigger_source='/cDAQ1/PFI0', trigger_edge=Slope.RISING)\n",
    "ctr1.co_pulse_term = '/cDAQ1/PFI1'\n",
    "\n",
    "Ctr1.start()\n",
    "Ctr0.start()\n",
    "\n",
    "Ctr0.wait_until_done()\n",
    "Ctr1.wait_until_done()\n",
    "\n",
    "Ctr0.close()\n",
    "Ctr1.close()"
   ]
  },
  {
   "cell_type": "code",
   "execution_count": null,
   "id": "af27d548",
   "metadata": {},
   "outputs": [],
   "source": []
  },
  {
   "cell_type": "code",
   "execution_count": null,
   "id": "65ae9e1c",
   "metadata": {},
   "outputs": [],
   "source": []
  }
 ],
 "metadata": {
  "kernelspec": {
   "display_name": "Python 3 (ipykernel)",
   "language": "python",
   "name": "python3"
  },
  "language_info": {
   "codemirror_mode": {
    "name": "ipython",
    "version": 3
   },
   "file_extension": ".py",
   "mimetype": "text/x-python",
   "name": "python",
   "nbconvert_exporter": "python",
   "pygments_lexer": "ipython3",
   "version": "3.9.15"
  }
 },
 "nbformat": 4,
 "nbformat_minor": 5
}
