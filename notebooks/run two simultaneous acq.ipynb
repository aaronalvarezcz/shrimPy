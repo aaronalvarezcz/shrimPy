{
 "cells": [
  {
   "cell_type": "code",
   "execution_count": 1,
   "id": "05dc6f8d",
   "metadata": {},
   "outputs": [],
   "source": [
    "# mantis conda env: acq\n",
    "\n",
    "import os\n",
    "import time\n",
    "from pycromanager import start_headless, Core, Acquisition, multi_d_acquisition_events\n",
    "\n",
    "import nidaqmx\n",
    "from nidaqmx.constants import AcquisitionType, Slope\n",
    "from nidaqmx.types import CtrTime"
   ]
  },
  {
   "cell_type": "markdown",
   "id": "3a0794a9",
   "metadata": {},
   "source": [
    "## Connect to running MM on default port 4827"
   ]
  },
  {
   "cell_type": "code",
   "execution_count": 2,
   "id": "617cbb13",
   "metadata": {},
   "outputs": [],
   "source": [
    "PORT1 = 4827\n",
    "mmc1 = Core(port=PORT1)"
   ]
  },
  {
   "cell_type": "code",
   "execution_count": 3,
   "id": "032d6c77",
   "metadata": {},
   "outputs": [
    {
     "name": "stdout",
     "output_type": "stream",
     "text": [
      "<pycromanager.bridge.mmcorej_CMMCore object at 0x000001C0FF5DF4C0>\n"
     ]
    }
   ],
   "source": [
    "print(mmc1)"
   ]
  },
  {
   "cell_type": "markdown",
   "id": "359eda9e",
   "metadata": {},
   "source": [
    "## Start and connect to headless MM on port 5827"
   ]
  },
  {
   "cell_type": "code",
   "execution_count": 4,
   "id": "2afeb485",
   "metadata": {},
   "outputs": [],
   "source": [
    "mm_app_path = r'C:\\Program Files\\Micro-Manager-2.0_09_01_2022'\n",
    "config_file = r'C:\\CompMicro_MMConfigs\\mantis\\mantis-LS.cfg'\n",
    "\n",
    "# Start the Java process\n",
    "PORT2 = 5827\n",
    "start_headless(mm_app_path, config_file, port=PORT2)  # we need to space out port numbers a bit"
   ]
  },
  {
   "cell_type": "code",
   "execution_count": 5,
   "id": "bfb34bfa",
   "metadata": {},
   "outputs": [
    {
     "data": {
      "text/plain": [
       "<pycromanager.bridge.mmcorej_CMMCore at 0x1c0ff5f2ac0>"
      ]
     },
     "execution_count": 5,
     "metadata": {},
     "output_type": "execute_result"
    }
   ],
   "source": [
    "mmc2 = Core(port=PORT2)\n",
    "mmc2"
   ]
  },
  {
   "cell_type": "markdown",
   "id": "aa84c4a6",
   "metadata": {},
   "source": [
    "## Setup DAQ"
   ]
  },
  {
   "cell_type": "code",
   "execution_count": 6,
   "id": "bcc50efd",
   "metadata": {},
   "outputs": [],
   "source": [
    "Ctr0 = nidaqmx.Task('Counter0')\n",
    "ctr0 = Ctr0.co_channels.add_co_pulse_chan_freq('cDAQ1/_ctr0', freq=20.0, duty_cycle=0.1)\n",
    "Ctr0.timing.cfg_implicit_timing(sample_mode=AcquisitionType.FINITE, samps_per_chan=100+10)\n",
    "ctr0.co_pulse_term = '/cDAQ1/PFI0'\n",
    "\n",
    "Ctr1 = nidaqmx.Task('Counter1')\n",
    "ctr1 = Ctr1.co_channels.add_co_pulse_chan_freq('cDAQ1/_ctr1', freq=10.0, duty_cycle=0.1)\n",
    "Ctr1.timing.cfg_implicit_timing(sample_mode=AcquisitionType.FINITE, samps_per_chan=50+10)\n",
    "Ctr1.triggers.start_trigger.cfg_dig_edge_start_trig(trigger_source='/cDAQ1/PFI0', trigger_edge=Slope.RISING)\n",
    "ctr1.co_pulse_term = '/cDAQ1/PFI1'"
   ]
  },
  {
   "cell_type": "markdown",
   "id": "e6930ed0",
   "metadata": {},
   "source": [
    "## Setup acquisition"
   ]
  },
  {
   "cell_type": "code",
   "execution_count": 7,
   "id": "aab55b97",
   "metadata": {},
   "outputs": [],
   "source": [
    "# setup label-free acquisition on mmc1\n",
    "mmc1.set_config('Imaging Path', 'Label-free')\n",
    "mmc1.set_config('Channel - LS', 'External Control')\n",
    "mmc1.set_config('Channel - LF', 'State0')\n",
    "\n",
    "mmc1.set_property('Oryx', 'Line Selector', 'Line5'); mmc1.update_system_state_cache()\n",
    "mmc1.set_property('Oryx', 'Line Mode', 'Output')\n",
    "mmc1.set_property('Oryx', 'Line Source', 'ExposureActive')\n",
    "mmc1.set_property('Oryx', 'Line Selector', 'Line2'); mmc1.update_system_state_cache()\n",
    "mmc1.set_property('Oryx', 'Line Mode', 'Input')\n",
    "mmc1.set_property('Oryx', 'Trigger Source', 'Line2')\n",
    "mmc1.set_property('Oryx', 'Trigger Mode', 'On')\n",
    "oryx_framerate_enabled = mmc1.get_property('Oryx', 'Frame Rate Control Enabled')\n",
    "oryx_framerate = mmc1.get_property('Oryx', 'Frame Rate')\n",
    "mmc1.set_property('Oryx', 'Frame Rate Control Enabled', '0')\n",
    "\n",
    "mmc1.set_property('Core', 'Focus', 'MCL Piezo')\n",
    "\n",
    "mmc1.set_property('TS1_DAC06', 'Sequence', 'Off') # turn off sequencing to avoid PM bugs\n",
    "\n",
    "mmc1.set_exposure(10)"
   ]
  },
  {
   "cell_type": "code",
   "execution_count": 8,
   "id": "5f810c13",
   "metadata": {},
   "outputs": [],
   "source": [
    "# setup light sheet acquisition on mmc2\n",
    "mmc2.set_config('Channel - LS', 'GFP EX488 EM525-45')\n",
    "\n",
    "mmc2.set_property('Prime BSI Express', 'TriggerMode', 'Edge Trigger')\n",
    "mmc2.set_property('Core', 'Focus', 'AP Galvo')\n",
    "\n",
    "mmc2.set_property('TS2_DAC03', 'Sequence', 'Off') # turn off sequencing to avoid PM bugs\n",
    "\n",
    "mmc2.set_exposure(80)"
   ]
  },
  {
   "cell_type": "markdown",
   "id": "a21f2d4e",
   "metadata": {},
   "source": [
    "## Setup acquisition events"
   ]
  },
  {
   "cell_type": "code",
   "execution_count": 9,
   "id": "22d5a4ef",
   "metadata": {},
   "outputs": [
    {
     "data": {
      "text/plain": [
       "100"
      ]
     },
     "execution_count": 9,
     "metadata": {},
     "output_type": "execute_result"
    }
   ],
   "source": [
    "lf_events = multi_d_acquisition_events(num_time_points = 100)\n",
    "len(lf_events)"
   ]
  },
  {
   "cell_type": "code",
   "execution_count": 10,
   "id": "b82b12be",
   "metadata": {},
   "outputs": [
    {
     "data": {
      "text/plain": [
       "50"
      ]
     },
     "execution_count": 10,
     "metadata": {},
     "output_type": "execute_result"
    }
   ],
   "source": [
    "ls_events = multi_d_acquisition_events(num_time_points = 50)\n",
    "len(ls_events)"
   ]
  },
  {
   "cell_type": "markdown",
   "id": "a5c34f1e",
   "metadata": {},
   "source": [
    "## Acquire data"
   ]
  },
  {
   "cell_type": "code",
   "execution_count": 11,
   "id": "6aae1d3c",
   "metadata": {},
   "outputs": [
    {
     "name": "stdout",
     "output_type": "stream",
     "text": [
      "Starting acquisition\n",
      "Starting trigger sequence\n",
      "Marking acquisition as finished\n",
      "Waiting for acquisition to finish\n",
      "Acq1 finished\n",
      "Acq2 finished\n",
      "Closing counters\n"
     ]
    }
   ],
   "source": [
    "save_path = r'D:\\2022_11_18 automation'\n",
    "\n",
    "acq1 = Acquisition(directory=save_path, name='lf_acq', port=PORT1)\n",
    "acq2 = Acquisition(directory=save_path, name='ls_acq', port=PORT2)\n",
    "\n",
    "print('Starting acquisition')\n",
    "acq1.acquire(lf_events)\n",
    "acq2.acquire(ls_events)\n",
    "time.sleep(0.2)\n",
    "\n",
    "print('Starting trigger sequence')\n",
    "Ctr1.start()\n",
    "Ctr0.start()\n",
    "\n",
    "print('Marking acquisition as finished')\n",
    "acq1.mark_finished()\n",
    "acq2.mark_finished()\n",
    "\n",
    "print('Waiting for acquisition to finish')\n",
    "acq1.await_completion()\n",
    "print('Acq1 finished')\n",
    "acq2.await_completion()\n",
    "print('Acq2 finished')\n",
    "\n",
    "print('Closing counters')\n",
    "Ctr0.close()\n",
    "Ctr1.close()"
   ]
  },
  {
   "cell_type": "markdown",
   "id": "832f0425",
   "metadata": {},
   "source": [
    "## Reset acquisition"
   ]
  },
  {
   "cell_type": "code",
   "execution_count": 12,
   "id": "5959c5a4",
   "metadata": {},
   "outputs": [],
   "source": [
    "mmc1.set_property('Oryx', 'Trigger Mode', 'Off')\n",
    "mmc2.set_property('Prime BSI Express', 'TriggerMode', 'Internal Trigger')\n",
    "\n",
    "mmc1.set_property('Oryx', 'Frame Rate Control Enabled', oryx_framerate_enabled)\n",
    "if oryx_framerate_enabled: \n",
    "    mmc1.set_property('Oryx', 'Frame Rate', oryx_framerate)"
   ]
  },
  {
   "cell_type": "code",
   "execution_count": null,
   "id": "66145db1",
   "metadata": {},
   "outputs": [],
   "source": []
  }
 ],
 "metadata": {
  "kernelspec": {
   "display_name": "Python 3 (ipykernel)",
   "language": "python",
   "name": "python3"
  },
  "language_info": {
   "codemirror_mode": {
    "name": "ipython",
    "version": 3
   },
   "file_extension": ".py",
   "mimetype": "text/x-python",
   "name": "python",
   "nbconvert_exporter": "python",
   "pygments_lexer": "ipython3",
   "version": "3.9.15"
  }
 },
 "nbformat": 4,
 "nbformat_minor": 5
}
