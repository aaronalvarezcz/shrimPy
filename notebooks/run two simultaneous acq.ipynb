{
 "cells": [
  {
   "cell_type": "code",
   "execution_count": 1,
   "id": "05dc6f8d",
   "metadata": {},
   "outputs": [],
   "source": [
    "# mantis conda env: acq\n",
    "\n",
    "import os\n",
    "from pycromanager import start_headless, Core, Acquisition, multi_d_acquisition_events\n",
    "\n",
    "import nidaqmx\n",
    "from nidaqmx.constants import AcquisitionType, Slope\n",
    "from nidaqmx.types import CtrTime"
   ]
  },
  {
   "cell_type": "markdown",
   "id": "3a0794a9",
   "metadata": {},
   "source": [
    "## Connect to running MM on default port 4827"
   ]
  },
  {
   "cell_type": "code",
   "execution_count": 2,
   "id": "617cbb13",
   "metadata": {},
   "outputs": [],
   "source": [
    "PORT1 = 4827\n",
    "mmc1 = Core(port=PORT1)"
   ]
  },
  {
   "cell_type": "code",
   "execution_count": 3,
   "id": "032d6c77",
   "metadata": {},
   "outputs": [
    {
     "name": "stdout",
     "output_type": "stream",
     "text": [
      "<pycromanager.bridge.mmcorej_CMMCore object at 0x0000023D1286F4C0>\n"
     ]
    }
   ],
   "source": [
    "print(mmc1)"
   ]
  },
  {
   "cell_type": "markdown",
   "id": "359eda9e",
   "metadata": {},
   "source": [
    "## Start and connect to headless MM on port 5827"
   ]
  },
  {
   "cell_type": "code",
   "execution_count": 4,
   "id": "2afeb485",
   "metadata": {},
   "outputs": [],
   "source": [
    "mm_app_path = r'C:\\Program Files\\Micro-Manager-2.0_09_01_2022'\n",
    "config_file = r'C:\\CompMicro_MMConfigs\\mantis\\mantis-LS.cfg'\n",
    "\n",
    "# Start the Java process\n",
    "PORT2 = 5827\n",
    "start_headless(mm_app_path, config_file, port=PORT2)  # we need to space out port numbers a bit"
   ]
  },
  {
   "cell_type": "code",
   "execution_count": 5,
   "id": "bfb34bfa",
   "metadata": {},
   "outputs": [
    {
     "data": {
      "text/plain": [
       "<pycromanager.bridge.mmcorej_CMMCore at 0x23d12897a90>"
      ]
     },
     "execution_count": 5,
     "metadata": {},
     "output_type": "execute_result"
    }
   ],
   "source": [
    "mmc2 = Core(port=PORT2)\n",
    "mmc2"
   ]
  },
  {
   "cell_type": "markdown",
   "id": "aa84c4a6",
   "metadata": {},
   "source": [
    "## Setup DAQ"
   ]
  },
  {
   "cell_type": "code",
   "execution_count": 6,
   "id": "bcc50efd",
   "metadata": {},
   "outputs": [],
   "source": [
    "Ctr0 = nidaqmx.Task('Counter0')\n",
    "ctr0 = Ctr0.co_channels.add_co_pulse_chan_freq('cDAQ1/_ctr0', freq=20.0, duty_cycle=0.1)\n",
    "Ctr0.timing.cfg_implicit_timing(sample_mode=AcquisitionType.FINITE, samps_per_chan=600)\n",
    "ctr0.co_pulse_term = '/cDAQ1/PFI0'\n",
    "\n",
    "Ctr1 = nidaqmx.Task('Counter1')\n",
    "ctr1 = Ctr1.co_channels.add_co_pulse_chan_freq('cDAQ1/_ctr1', freq=10.0, duty_cycle=0.1)\n",
    "Ctr1.timing.cfg_implicit_timing(sample_mode=AcquisitionType.FINITE, samps_per_chan=600)\n",
    "Ctr1.triggers.start_trigger.cfg_dig_edge_start_trig(trigger_source='/cDAQ1/PFI0', trigger_edge=Slope.RISING)\n",
    "ctr1.co_pulse_term = '/cDAQ1/PFI1'"
   ]
  },
  {
   "cell_type": "markdown",
   "id": "e6930ed0",
   "metadata": {},
   "source": [
    "## Setup acquisition"
   ]
  },
  {
   "cell_type": "code",
   "execution_count": 7,
   "id": "aab55b97",
   "metadata": {},
   "outputs": [],
   "source": [
    "# setup label-free acquisition on mmc1\n",
    "mmc1.set_config('Imaging Path', 'Label-free')\n",
    "mmc1.set_config('Channel - LS', 'External Control')\n",
    "mmc1.set_config('Channel - LF', 'State0')\n",
    "\n",
    "mmc1.set_property('Oryx', 'Trigger Mode', 'On')\n",
    "mmc1.set_property('Oryx', 'Line Selector', 'Line2')\n",
    "mmc1.set_property('Oryx', 'Line Mode', 'Output')\n",
    "mmc1.set_property('Oryx', 'Line Source', 'ExposureActive')\n",
    "mmc1.set_property('Oryx', 'Line Selector', 'Line5')\n",
    "mmc1.set_property('Oryx', 'Line Mode', 'Input')\n",
    "mmc1.set_property('Oryx', 'TriggerSource', 'Line5')\n",
    "oryx_framerate_enabled = mmc1.get_property('Oryx', 'Frame Rate Control Enabled')\n",
    "oryx_framerate = mmc1.get_property('Oryx', 'Frame Rate')\n",
    "mmc1.set_property('Oryx', 'Frame Rate Control Enabled', '0')\n",
    "\n",
    "mmc1.set_property('Core', 'Focus', 'MCL Piezo')\n",
    "\n",
    "mmc1.set_property('TS1_DAC06', 'Sequence', 'Off') # turn off sequencing to avoid PM bugs\n",
    "\n",
    "mmc1.set_exposure(10)"
   ]
  },
  {
   "cell_type": "code",
   "execution_count": 8,
   "id": "5f810c13",
   "metadata": {},
   "outputs": [],
   "source": [
    "# setup light sheet acquisition on mmc2\n",
    "mmc2.set_config('Channel - LS', 'GFP EX488 EM525-45')\n",
    "\n",
    "mmc2.set_property('Prime BSI Express', 'TriggerMode', 'Edge Trigger')\n",
    "mmc2.set_property('Core', 'Focus', 'AP Galvo')\n",
    "\n",
    "mmc2.set_property('TS2_DAC03', 'Sequence', 'Off') # turn off sequencing to avoid PM bugs\n",
    "\n",
    "mmc2.set_exposure(80)"
   ]
  },
  {
   "cell_type": "markdown",
   "id": "a21f2d4e",
   "metadata": {},
   "source": [
    "## Setup acquisition events"
   ]
  },
  {
   "cell_type": "code",
   "execution_count": 9,
   "id": "22d5a4ef",
   "metadata": {},
   "outputs": [
    {
     "data": {
      "text/plain": [
       "600"
      ]
     },
     "execution_count": 9,
     "metadata": {},
     "output_type": "execute_result"
    }
   ],
   "source": [
    "lf_events = multi_d_acquisition_events(num_time_points = 10, z_start=0, z_end=59, z_step=1)\n",
    "len(lf_events)"
   ]
  },
  {
   "cell_type": "code",
   "execution_count": 10,
   "id": "b82b12be",
   "metadata": {},
   "outputs": [
    {
     "data": {
      "text/plain": [
       "600"
      ]
     },
     "execution_count": 10,
     "metadata": {},
     "output_type": "execute_result"
    }
   ],
   "source": [
    "ls_events = multi_d_acquisition_events(z_start=-3, z_end=2.99, z_step=0.01)\n",
    "len(ls_events)"
   ]
  },
  {
   "cell_type": "markdown",
   "id": "a5c34f1e",
   "metadata": {},
   "source": [
    "## Acquire data"
   ]
  },
  {
   "cell_type": "code",
   "execution_count": 11,
   "id": "6aae1d3c",
   "metadata": {},
   "outputs": [
    {
     "ename": "Exception",
     "evalue": "java.lang.RuntimeException: java.lang.RuntimeException: java.util.concurrent.ExecutionException: org.micromanager.acqj.internal.HardwareControlException: Error in device \"Oryx\": Spinnaker: GenICam::AccessException= Unknown IntValue 9 : AccessException thrown (file 'IEnumerationT.h', line 338) [-2006] (10002)\norg.micromanager.acqj.internal.Engine.lambda$submitEventIterator$4(Engine.java:176)\njava.util.concurrent.Executors$RunnableAdapter.call(Executors.java:511)\njava.util.concurrent.FutureTask.run(FutureTask.java:266)\njava.util.concurrent.ThreadPoolExecutor.runWorker(ThreadPoolExecutor.java:1149)\njava.util.concurrent.ThreadPoolExecutor$Worker.run(ThreadPoolExecutor.java:624)\njava.lang.Thread.run(Thread.java:748)\n",
     "output_type": "error",
     "traceback": [
      "\u001b[1;31m---------------------------------------------------------------------------\u001b[0m",
      "\u001b[1;31mException\u001b[0m                                 Traceback (most recent call last)",
      "Cell \u001b[1;32mIn [11], line 12\u001b[0m\n\u001b[0;32m      9\u001b[0m Ctr1\u001b[38;5;241m.\u001b[39mstart()\n\u001b[0;32m     10\u001b[0m Ctr0\u001b[38;5;241m.\u001b[39mstart()\n\u001b[1;32m---> 12\u001b[0m \u001b[43macq1\u001b[49m\u001b[38;5;241;43m.\u001b[39;49m\u001b[43mawait_completion\u001b[49m\u001b[43m(\u001b[49m\u001b[43m)\u001b[49m\n\u001b[0;32m     13\u001b[0m acq2\u001b[38;5;241m.\u001b[39mawait_completion()\n\u001b[0;32m     15\u001b[0m acq1\u001b[38;5;241m.\u001b[39mmark_finished()\n",
      "File \u001b[1;32m~\\.conda\\envs\\acq\\lib\\site-packages\\pycromanager\\acquisitions.py:503\u001b[0m, in \u001b[0;36mAcquisition.await_completion\u001b[1;34m(self)\u001b[0m\n\u001b[0;32m    501\u001b[0m \u001b[38;5;28;01mwhile\u001b[39;00m \u001b[38;5;129;01mnot\u001b[39;00m \u001b[38;5;28mself\u001b[39m\u001b[38;5;241m.\u001b[39m_remote_acq\u001b[38;5;241m.\u001b[39mis_finished():\n\u001b[0;32m    502\u001b[0m     time\u001b[38;5;241m.\u001b[39msleep(\u001b[38;5;241m0.01\u001b[39m)\n\u001b[1;32m--> 503\u001b[0m     \u001b[38;5;28;43mself\u001b[39;49m\u001b[38;5;241;43m.\u001b[39;49m\u001b[43m_remote_acq\u001b[49m\u001b[38;5;241;43m.\u001b[39;49m\u001b[43mcheck_for_exceptions\u001b[49m\u001b[43m(\u001b[49m\u001b[43m)\u001b[49m\n\u001b[0;32m    504\u001b[0m \u001b[38;5;28mself\u001b[39m\u001b[38;5;241m.\u001b[39m_remote_acq \u001b[38;5;241m=\u001b[39m \u001b[38;5;28;01mNone\u001b[39;00m\n\u001b[0;32m    506\u001b[0m \u001b[38;5;66;03m# Wait on all the other threads to shut down properly\u001b[39;00m\n",
      "File \u001b[1;32m~\\.conda\\envs\\acq\\lib\\site-packages\\pycromanager\\bridge.py:489\u001b[0m, in \u001b[0;36m_JavaClassFactory.create.<locals>.<lambda>\u001b[1;34m(instance, signatures_list, *args)\u001b[0m\n\u001b[0;32m    483\u001b[0m params, methods_with_name, method_name_modified \u001b[38;5;241m=\u001b[39m _parse_arg_names(\n\u001b[0;32m    484\u001b[0m     methodSpecs, method_name, convert_camel_case\n\u001b[0;32m    485\u001b[0m )\n\u001b[0;32m    486\u001b[0m return_type \u001b[38;5;241m=\u001b[39m methods_with_name[\u001b[38;5;241m0\u001b[39m][\u001b[38;5;124m\"\u001b[39m\u001b[38;5;124mreturn-type\u001b[39m\u001b[38;5;124m\"\u001b[39m]\n\u001b[0;32m    487\u001b[0m fn \u001b[38;5;241m=\u001b[39m \u001b[38;5;28;01mlambda\u001b[39;00m instance, \u001b[38;5;241m*\u001b[39margs, signatures_list\u001b[38;5;241m=\u001b[39m\u001b[38;5;28mtuple\u001b[39m(\n\u001b[0;32m    488\u001b[0m     methods_with_name\n\u001b[1;32m--> 489\u001b[0m ): \u001b[43minstance\u001b[49m\u001b[38;5;241;43m.\u001b[39;49m\u001b[43m_translate_call\u001b[49m\u001b[43m(\u001b[49m\u001b[43msignatures_list\u001b[49m\u001b[43m,\u001b[49m\u001b[43m \u001b[49m\u001b[43margs\u001b[49m\u001b[43m,\u001b[49m\u001b[43m \u001b[49m\u001b[43mstatic\u001b[49m\u001b[43m \u001b[49m\u001b[38;5;241;43m=\u001b[39;49m\u001b[43m \u001b[49m\u001b[43m_java_class\u001b[49m\u001b[43m \u001b[49m\u001b[38;5;241;43m==\u001b[39;49m\u001b[43m \u001b[49m\u001b[38;5;124;43m'\u001b[39;49m\u001b[38;5;124;43mjava.lang.Class\u001b[39;49m\u001b[38;5;124;43m'\u001b[39;49m\u001b[43m)\u001b[49m\n\u001b[0;32m    490\u001b[0m fn\u001b[38;5;241m.\u001b[39m\u001b[38;5;18m__name__\u001b[39m \u001b[38;5;241m=\u001b[39m method_name_modified\n\u001b[0;32m    491\u001b[0m fn\u001b[38;5;241m.\u001b[39m\u001b[38;5;18m__doc__\u001b[39m \u001b[38;5;241m=\u001b[39m \u001b[38;5;124m\"\u001b[39m\u001b[38;5;132;01m{}\u001b[39;00m\u001b[38;5;124m.\u001b[39m\u001b[38;5;132;01m{}\u001b[39;00m\u001b[38;5;124m: A dynamically generated Java method.\u001b[39m\u001b[38;5;124m\"\u001b[39m\u001b[38;5;241m.\u001b[39mformat(\n\u001b[0;32m    492\u001b[0m     _java_class, method_name_modified\n\u001b[0;32m    493\u001b[0m )\n",
      "File \u001b[1;32m~\\.conda\\envs\\acq\\lib\\site-packages\\pycromanager\\bridge.py:612\u001b[0m, in \u001b[0;36m_JavaObjectShadow._translate_call\u001b[1;34m(self, method_specs, fn_args, static)\u001b[0m\n\u001b[0;32m    609\u001b[0m message[\u001b[38;5;124m\"\u001b[39m\u001b[38;5;124marguments\u001b[39m\u001b[38;5;124m\"\u001b[39m] \u001b[38;5;241m=\u001b[39m _package_arguments(valid_method_spec, fn_args)\n\u001b[0;32m    611\u001b[0m \u001b[38;5;28mself\u001b[39m\u001b[38;5;241m.\u001b[39m_socket\u001b[38;5;241m.\u001b[39msend(message)\n\u001b[1;32m--> 612\u001b[0m recieved \u001b[38;5;241m=\u001b[39m \u001b[38;5;28;43mself\u001b[39;49m\u001b[38;5;241;43m.\u001b[39;49m\u001b[43m_socket\u001b[49m\u001b[38;5;241;43m.\u001b[39;49m\u001b[43mreceive\u001b[49m\u001b[43m(\u001b[49m\u001b[43m)\u001b[49m\n\u001b[0;32m    613\u001b[0m \u001b[38;5;28;01mreturn\u001b[39;00m \u001b[38;5;28mself\u001b[39m\u001b[38;5;241m.\u001b[39m_deserialize(recieved)\n",
      "File \u001b[1;32m~\\.conda\\envs\\acq\\lib\\site-packages\\pycromanager\\bridge.py:175\u001b[0m, in \u001b[0;36mDataSocket.receive\u001b[1;34m(self, timeout, suppress_debug_message)\u001b[0m\n\u001b[0;32m    173\u001b[0m \u001b[38;5;28;01mif\u001b[39;00m \u001b[38;5;28mself\u001b[39m\u001b[38;5;241m.\u001b[39m_debug \u001b[38;5;129;01mand\u001b[39;00m \u001b[38;5;129;01mnot\u001b[39;00m suppress_debug_message:\n\u001b[0;32m    174\u001b[0m     \u001b[38;5;28mprint\u001b[39m(\u001b[38;5;124m\"\u001b[39m\u001b[38;5;124mDEBUG, recieved: \u001b[39m\u001b[38;5;132;01m{}\u001b[39;00m\u001b[38;5;124m\"\u001b[39m\u001b[38;5;241m.\u001b[39mformat(message))\n\u001b[1;32m--> 175\u001b[0m \u001b[38;5;28;43mself\u001b[39;49m\u001b[38;5;241;43m.\u001b[39;49m\u001b[43m_check_exception\u001b[49m\u001b[43m(\u001b[49m\u001b[43mmessage\u001b[49m\u001b[43m)\u001b[49m\n\u001b[0;32m    176\u001b[0m \u001b[38;5;28;01mreturn\u001b[39;00m message\n",
      "File \u001b[1;32m~\\.conda\\envs\\acq\\lib\\site-packages\\pycromanager\\bridge.py:180\u001b[0m, in \u001b[0;36mDataSocket._check_exception\u001b[1;34m(self, response)\u001b[0m\n\u001b[0;32m    178\u001b[0m \u001b[38;5;28;01mdef\u001b[39;00m \u001b[38;5;21m_check_exception\u001b[39m(\u001b[38;5;28mself\u001b[39m, response):\n\u001b[0;32m    179\u001b[0m     \u001b[38;5;28;01mif\u001b[39;00m \u001b[38;5;124m\"\u001b[39m\u001b[38;5;124mtype\u001b[39m\u001b[38;5;124m\"\u001b[39m \u001b[38;5;129;01min\u001b[39;00m response \u001b[38;5;129;01mand\u001b[39;00m response[\u001b[38;5;124m\"\u001b[39m\u001b[38;5;124mtype\u001b[39m\u001b[38;5;124m\"\u001b[39m] \u001b[38;5;241m==\u001b[39m \u001b[38;5;124m\"\u001b[39m\u001b[38;5;124mexception\u001b[39m\u001b[38;5;124m\"\u001b[39m:\n\u001b[1;32m--> 180\u001b[0m         \u001b[38;5;28;01mraise\u001b[39;00m \u001b[38;5;167;01mException\u001b[39;00m(response[\u001b[38;5;124m\"\u001b[39m\u001b[38;5;124mvalue\u001b[39m\u001b[38;5;124m\"\u001b[39m])\n",
      "\u001b[1;31mException\u001b[0m: java.lang.RuntimeException: java.lang.RuntimeException: java.util.concurrent.ExecutionException: org.micromanager.acqj.internal.HardwareControlException: Error in device \"Oryx\": Spinnaker: GenICam::AccessException= Unknown IntValue 9 : AccessException thrown (file 'IEnumerationT.h', line 338) [-2006] (10002)\norg.micromanager.acqj.internal.Engine.lambda$submitEventIterator$4(Engine.java:176)\njava.util.concurrent.Executors$RunnableAdapter.call(Executors.java:511)\njava.util.concurrent.FutureTask.run(FutureTask.java:266)\njava.util.concurrent.ThreadPoolExecutor.runWorker(ThreadPoolExecutor.java:1149)\njava.util.concurrent.ThreadPoolExecutor$Worker.run(ThreadPoolExecutor.java:624)\njava.lang.Thread.run(Thread.java:748)\n"
     ]
    }
   ],
   "source": [
    "save_path = r'D:\\2022_11_18 automation'\n",
    "\n",
    "acq1 = Acquisition(directory=save_path, name='lf_acq', port=PORT1)\n",
    "acq2 = Acquisition(directory=save_path, name='ls_acq', port=PORT2)\n",
    "\n",
    "acq1.acquire(lf_events)\n",
    "acq2.acquire(ls_events)\n",
    "\n",
    "Ctr1.start()\n",
    "Ctr0.start()\n",
    "\n",
    "acq1.await_completion()\n",
    "acq2.await_completion()\n",
    "\n",
    "acq1.mark_finished()\n",
    "acq2.mark_finished()\n",
    "\n",
    "Ctr0.close()\n",
    "Ctr1.close()"
   ]
  },
  {
   "cell_type": "markdown",
   "id": "832f0425",
   "metadata": {},
   "source": [
    "## Reset acquisition"
   ]
  },
  {
   "cell_type": "code",
   "execution_count": 12,
   "id": "5959c5a4",
   "metadata": {},
   "outputs": [],
   "source": [
    "mmc1.set_property('Oryx', 'Trigger Mode', 'Off')\n",
    "mmc2.set_property('Prime BSI Express', 'TriggerMode', 'Internal Trigger')"
   ]
  },
  {
   "cell_type": "code",
   "execution_count": null,
   "id": "66145db1",
   "metadata": {},
   "outputs": [],
   "source": []
  }
 ],
 "metadata": {
  "kernelspec": {
   "display_name": "Python 3 (ipykernel)",
   "language": "python",
   "name": "python3"
  },
  "language_info": {
   "codemirror_mode": {
    "name": "ipython",
    "version": 3
   },
   "file_extension": ".py",
   "mimetype": "text/x-python",
   "name": "python",
   "nbconvert_exporter": "python",
   "pygments_lexer": "ipython3",
   "version": "3.9.15"
  }
 },
 "nbformat": 4,
 "nbformat_minor": 5
}
