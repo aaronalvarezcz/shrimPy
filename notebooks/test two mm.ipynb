{
 "cells": [
  {
   "cell_type": "code",
   "execution_count": 1,
   "id": "05dc6f8d",
   "metadata": {},
   "outputs": [],
   "source": [
    "import os\n",
    "from pycromanager import start_headless, Core, Acquisition, multi_d_acquisition_events"
   ]
  },
  {
   "cell_type": "code",
   "execution_count": 2,
   "id": "617cbb13",
   "metadata": {},
   "outputs": [],
   "source": [
    "PORT1 = 4827\n",
    "mmc1 = Core(port=PORT1)"
   ]
  },
  {
   "cell_type": "code",
   "execution_count": 3,
   "id": "032d6c77",
   "metadata": {},
   "outputs": [
    {
     "name": "stdout",
     "output_type": "stream",
     "text": [
      "<pycromanager.bridge.mmcorej_CMMCore object at 0x00000227BD5C0910>\n"
     ]
    }
   ],
   "source": [
    "print(mmc1)"
   ]
  },
  {
   "cell_type": "code",
   "execution_count": 4,
   "id": "2afeb485",
   "metadata": {},
   "outputs": [],
   "source": [
    "mm_app_path = r'C:\\Program Files\\Micro-Manager-2.0.1_2022_09_20'\n",
    "config_file = os.path.join(mm_app_path, \"MMConfig_demo.cfg\")\n",
    "\n",
    "# Start the Java process\n",
    "PORT2 = 5827\n",
    "start_headless(mm_app_path, config_file, port=PORT2)  # we need to space out port numbers a bit"
   ]
  },
  {
   "cell_type": "code",
   "execution_count": 5,
   "id": "bfb34bfa",
   "metadata": {},
   "outputs": [
    {
     "data": {
      "text/plain": [
       "<pycromanager.bridge.mmcorej_CMMCore at 0x227bd5e1370>"
      ]
     },
     "execution_count": 5,
     "metadata": {},
     "output_type": "execute_result"
    }
   ],
   "source": [
    "mmc2 = Core(port=PORT2)\n",
    "mmc2"
   ]
  },
  {
   "cell_type": "code",
   "execution_count": 6,
   "id": "7e3235d3",
   "metadata": {},
   "outputs": [],
   "source": [
    "events = multi_d_acquisition_events(num_time_points=100)\n",
    "save_path = 'Q:\\Ivan\\debug'"
   ]
  },
  {
   "cell_type": "code",
   "execution_count": 7,
   "id": "6aae1d3c",
   "metadata": {},
   "outputs": [],
   "source": [
    "acq1 = Acquisition(directory=save_path, name='acq1', port=PORT1)\n",
    "acq2 = Acquisition(directory=save_path, name='acq2', port=PORT2)\n",
    "\n",
    "acq1.acquire(events)\n",
    "acq2.acquire(events)\n",
    "\n",
    "acq1.mark_finished()\n",
    "acq2.mark_finished()\n",
    "\n",
    "acq1.await_completion()\n",
    "acq2.await_completion()"
   ]
  },
  {
   "cell_type": "code",
   "execution_count": null,
   "id": "c6191dac",
   "metadata": {},
   "outputs": [],
   "source": []
  }
 ],
 "metadata": {
  "kernelspec": {
   "display_name": "Python 3 (ipykernel)",
   "language": "python",
   "name": "python3"
  },
  "language_info": {
   "codemirror_mode": {
    "name": "ipython",
    "version": 3
   },
   "file_extension": ".py",
   "mimetype": "text/x-python",
   "name": "python",
   "nbconvert_exporter": "python",
   "pygments_lexer": "ipython3",
   "version": "3.9.12"
  }
 },
 "nbformat": 4,
 "nbformat_minor": 5
}
