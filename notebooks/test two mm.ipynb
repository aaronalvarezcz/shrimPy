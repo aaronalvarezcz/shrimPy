{
 "cells": [
  {
   "cell_type": "code",
   "execution_count": 1,
   "id": "7d49dcf4",
   "metadata": {},
   "outputs": [],
   "source": [
    "import os\n",
    "from pycromanager import start_headless, Core, Acquisition"
   ]
  },
  {
   "cell_type": "code",
   "execution_count": 2,
   "id": "532079c9",
   "metadata": {},
   "outputs": [],
   "source": [
    "PORT1 = 4827\n",
    "mmc1 = Core(port=PORT1)"
   ]
  },
  {
   "cell_type": "code",
   "execution_count": 3,
   "id": "c6401f6b",
   "metadata": {},
   "outputs": [
    {
     "name": "stdout",
     "output_type": "stream",
     "text": [
      "<pycromanager.bridge.mmcorej_CMMCore object at 0x000001C10E69FBE0>\n"
     ]
    }
   ],
   "source": [
    "print(mmc1)"
   ]
  },
  {
   "cell_type": "code",
   "execution_count": 4,
   "id": "c75e880c",
   "metadata": {},
   "outputs": [],
   "source": [
    "mm_app_path = r'C:\\Program Files\\Micro-Manager-2.0.1_2022_09_20'\n",
    "config_file = os.path.join(mm_app_path, \"MMConfig_demo.cfg\")\n",
    "\n",
    "# Start the Java process\n",
    "PORT2 = 5827\n",
    "start_headless(mm_app_path, config_file, port=PORT2)  # we need to space out port numbers a bit"
   ]
  },
  {
   "cell_type": "code",
   "execution_count": 5,
   "id": "917d5ae7",
   "metadata": {},
   "outputs": [
    {
     "data": {
      "text/plain": [
       "<pycromanager.bridge.mmcorej_CMMCore at 0x1c10e6d5760>"
      ]
     },
     "execution_count": 5,
     "metadata": {},
     "output_type": "execute_result"
    }
   ],
   "source": [
    "mmc2 = Core(port=PORT2)\n",
    "mmc2"
   ]
  },
  {
   "cell_type": "code",
   "execution_count": null,
   "id": "6c819e84",
   "metadata": {},
   "outputs": [],
   "source": []
  }
 ],
 "metadata": {
  "kernelspec": {
   "display_name": "Python 3 (ipykernel)",
   "language": "python",
   "name": "python3"
  },
  "language_info": {
   "codemirror_mode": {
    "name": "ipython",
    "version": 3
   },
   "file_extension": ".py",
   "mimetype": "text/x-python",
   "name": "python",
   "nbconvert_exporter": "python",
   "pygments_lexer": "ipython3",
   "version": "3.9.12"
  }
 },
 "nbformat": 4,
 "nbformat_minor": 5
}
