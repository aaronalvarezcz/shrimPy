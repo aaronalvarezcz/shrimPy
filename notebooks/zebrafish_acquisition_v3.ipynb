{
 "cells": [
  {
   "cell_type": "code",
   "execution_count": 1,
   "id": "106fc117",
   "metadata": {},
   "outputs": [],
   "source": [
    "import numpy as np\n",
    "from copy import deepcopy\n",
    "import time\n",
    "from pycromanager import Acquisition, Bridge, multi_d_acquisition_events"
   ]
  },
  {
   "cell_type": "code",
   "execution_count": 2,
   "id": "d2239fe7",
   "metadata": {
    "scrolled": true
   },
   "outputs": [
    {
     "name": "stderr",
     "output_type": "stream",
     "text": [
      "C:\\Users\\labelfree\\.conda\\envs\\acq\\lib\\site-packages\\pycromanager\\core.py:258: UserWarning: Version mistmatch between Java ZMQ server and Python client. \n",
      "Java ZMQ server version: 4.0.0\n",
      "Python client expected version: 4.1.0\n",
      " To fix, update to BOTH latest pycromanager and latest micro-manager nightly build\n",
      "  warnings.warn(\n"
     ]
    }
   ],
   "source": [
    "bridge = Bridge()\n",
    "mmc = bridge.get_core()\n",
    "mmStudio = bridge.get_studio()"
   ]
  },
  {
   "cell_type": "code",
   "execution_count": 3,
   "id": "338da446",
   "metadata": {},
   "outputs": [
    {
     "data": {
      "text/plain": [
       "(array([[-7667.12 , 13888.929,  4527.86 ],\n",
       "        [-7276.85 , 14041.279,  4529.9  ],\n",
       "        [-7036.99 , 13982.73 ,  4528.92 ],\n",
       "        [-7415.289, 14841.279,  4528.72 ],\n",
       "        [-6362.16 , 14139.86 ,  4529.9  ],\n",
       "        [-5916.95 , 13973.529,  4528.84 ]]),\n",
       " array([7381., 8775., 6907., 8641., 7666., 7224.]))"
      ]
     },
     "execution_count": 3,
     "metadata": {},
     "output_type": "execute_result"
    }
   ],
   "source": [
    "mm_pos_list = mmStudio.get_position_list_manager().get_position_list()\n",
    "number_of_positions = mm_pos_list.get_number_of_positions()\n",
    "\n",
    "xyz_position_list = [[mm_pos_list.get_position(i).get_x(),\n",
    "                      mm_pos_list.get_position(i).get_y(),\n",
    "                      mm_pos_list.get_position(i).get_z()] \\\n",
    "                    for i in range(number_of_positions)]\n",
    "\n",
    "offset = [mm_pos_list.get_position(i).get('PFSOffset').get1_d_position() for i in range(number_of_positions)]\n",
    "\n",
    "xyz_position_list = np.around(xyz_position_list, decimals=3).astype('double')\n",
    "offset = np.around(offset, decimals=3).astype('double')\n",
    "\n",
    "epi_positions = xyz_position_list[:3]\n",
    "lf_epi_positions = xyz_position_list[3:]\n",
    "\n",
    "# epi_positions = [xyz_position_list[0]]\n",
    "# lf_epi_positions = [xyz_position_list[1]]\n",
    "\n",
    "xyz_position_list, offset"
   ]
  },
  {
   "cell_type": "code",
   "execution_count": 4,
   "id": "5a4638c3",
   "metadata": {},
   "outputs": [],
   "source": [
    "epi_channel = {'group': 'Master Channel', 'config': 'Epi'}\n",
    "epi_exposure = 50\n",
    "\n",
    "lf_state0 = {'group': 'Master Channel', 'config': 'LF-State0'}\n",
    "lf_exposure = 20\n",
    "\n",
    "# relative z\n",
    "z_start = -2.5\n",
    "z_end = 2.5\n",
    "z_step = 0.25\n",
    "z_range = np.arange(z_start, z_end + z_step, z_step)\n",
    "\n",
    "num_time_points  = 5\n",
    "time_interval_s  = 60  # in seconds"
   ]
  },
  {
   "cell_type": "code",
   "execution_count": 5,
   "id": "60c35d24",
   "metadata": {
    "scrolled": true
   },
   "outputs": [],
   "source": [
    "events = []\n",
    "num_epi_positions = np.shape(epi_positions)[0]\n",
    "\n",
    "for t in range(num_time_points):\n",
    "    \n",
    "    # epi-only positions, z stack events are created by autofocus function\n",
    "    for p_idx, p in enumerate(epi_positions):\n",
    "        events.append(\n",
    "            {\n",
    "                'axes': {'time': t, 'position':p_idx, 'z':0},\n",
    "                'min_start_time': t*time_interval_s,\n",
    "                'x': p[0],\n",
    "                'y': p[1],\n",
    "                'z': p[2],\n",
    "                'channel': epi_channel,\n",
    "                'exposure': epi_exposure,\n",
    "                'keep_shutter_open': False,\n",
    "            })\n",
    "\n",
    "    # epi and lf positions, z stack events are created by autofocus function\n",
    "    for p_idx, p in enumerate(lf_epi_positions):\n",
    "        \n",
    "        # epi channel\n",
    "        events.append(\n",
    "            {\n",
    "                'axes': {'time': t,'position':p_idx+num_epi_positions, 'z':0},\n",
    "                'min_start_time': t*time_interval_s,\n",
    "                'x': p[0],\n",
    "                'y': p[1],\n",
    "                'z': p[2],\n",
    "                'channel': epi_channel,\n",
    "                'exposure': epi_exposure,\n",
    "                'keep_shutter_open': False\n",
    "            })\n",
    "        \n",
    "        events.append(\n",
    "            {\n",
    "                'axes': {'time': t,'position':p_idx+num_epi_positions, 'z':0},\n",
    "                'min_start_time': t*time_interval_s,\n",
    "                'x': p[0],\n",
    "                'y': p[1],\n",
    "                'z': p[2],\n",
    "                'channel': lf_state0,\n",
    "                'exposure': lf_exposure,\n",
    "                'keep_shutter_open': False\n",
    "            })"
   ]
  },
  {
   "cell_type": "code",
   "execution_count": 6,
   "id": "b12ec282",
   "metadata": {},
   "outputs": [],
   "source": [
    "num_events = len(events)\n",
    "\n",
    "def autofocus_fn(event, bridge, event_queue):\n",
    "    if not hasattr(autofocus_fn, 'ctr'):\n",
    "        autofocus_fn.ctr = 0\n",
    "    \n",
    "    mmc = bridge.get_core()\n",
    "    \n",
    "    # set PFS offset\n",
    "    x_ = event['x']\n",
    "    y_ = event['y']\n",
    "    offset_ = offset[np.all(xyz_position_list[:,:2] == [x_,y_], axis=1)][0]\n",
    "    mmc.set_position('PFSOffset', offset_)\n",
    "    \n",
    "    # autofocus\n",
    "    try:\n",
    "        mmc.full_focus()\n",
    "    except:\n",
    "        mmc.set_relative_position(5) # try moving up\n",
    "        try:\n",
    "            mmc.full_focus()\n",
    "        except:\n",
    "            mmc.set_relative_position(-10) # try moving down\n",
    "            mmc.full_focus()\n",
    "    \n",
    "    time.sleep(1.0)\n",
    "    pos = np.around(mmc.get_position(), decimals=3)\n",
    "\n",
    "    # queue events\n",
    "    if autofocus_fn.ctr < num_events-1:\n",
    "        # queue epi channel\n",
    "        for z_idx, z in enumerate(pos+z_range):\n",
    "            new_event = deepcopy(event)\n",
    "            new_event['axes']['z'] = z_idx\n",
    "            new_event['z'] = z\n",
    "            event_queue.put(new_event)\n",
    "\n",
    "        # queue lf channels in ZC order\n",
    "        if events[autofocus_fn.ctr+1]['channel'] == lf_state0:\n",
    "            for z_idx, z in enumerate(pos+z_range):\n",
    "                for ch in [f'LF-State{i}' for i in range(5)]:\n",
    "                    new_event = deepcopy(event)\n",
    "                    new_event['axes']['z'] = z_idx\n",
    "                    new_event['z'] = z\n",
    "                    new_event['channel']['config'] = ch\n",
    "                    new_event['exposure'] = lf_exposure\n",
    "                    event_queue.put(new_event)\n",
    "            autofocus_fn.ctr += 1 # skip the next channel in the list\n",
    "\n",
    "    if autofocus_fn.ctr < num_events-1:\n",
    "        # queue next axes\n",
    "        event_queue.put(events[autofocus_fn.ctr+1])\n",
    "        autofocus_fn.ctr += 1\n",
    "    else:\n",
    "        event_queue.put(None) # stop acquisition\n",
    "\n",
    "\n",
    "def hook_fn(event, bridge, event_queue):\n",
    "    if 'axes' in event.keys():\n",
    "        if not hasattr(hook_fn, 'pos_index'):\n",
    "            hook_fn.pos_index = event['axes']['position']\n",
    "            autofocus_fn(event, bridge, event_queue)\n",
    "            hook_fn.focused = True\n",
    "            return\n",
    "            \n",
    "        if event['axes']['position'] != hook_fn.pos_index and not hook_fn.focused:\n",
    "            autofocus_fn(event, bridge, event_queue)\n",
    "            hook_fn.focused = True\n",
    "            return\n",
    "            \n",
    "        hook_fn.pos_index = event['axes']['position']\n",
    "        hook_fn.focused = False\n",
    "    \n",
    "    return event"
   ]
  },
  {
   "cell_type": "code",
   "execution_count": 7,
   "id": "3c122c07",
   "metadata": {
    "scrolled": false
   },
   "outputs": [],
   "source": [
    "mmc.set_auto_shutter(True)\n",
    "# mmc.set_auto_focus_device('PFS')\n",
    "# mmc.set_config('Epi Channel', 'GFP EX466-40 EM525-50')\n",
    "\n",
    "snap_live_manager = mmStudio.get_snap_live_manager()\n",
    "if snap_live_manager.is_live_mode_on():\n",
    "    snap_live_manager.set_live_mode_on(False)\n",
    "\n",
    "acq = Acquisition(directory=r'D:\\2022_02_15 Beads', name='pfs_test', post_hardware_hook_fn=hook_fn)\n",
    "acq.acquire(events[0])"
   ]
  },
  {
   "cell_type": "code",
   "execution_count": null,
   "id": "413ac8b4",
   "metadata": {},
   "outputs": [],
   "source": []
  }
 ],
 "metadata": {
  "kernelspec": {
   "display_name": "Python 3 (ipykernel)",
   "language": "python",
   "name": "python3"
  },
  "language_info": {
   "codemirror_mode": {
    "name": "ipython",
    "version": 3
   },
   "file_extension": ".py",
   "mimetype": "text/x-python",
   "name": "python",
   "nbconvert_exporter": "python",
   "pygments_lexer": "ipython3",
   "version": "3.7.13"
  }
 },
 "nbformat": 4,
 "nbformat_minor": 5
}
