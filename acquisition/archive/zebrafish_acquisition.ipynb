{
 "cells": [
  {
   "cell_type": "code",
   "execution_count": 1,
   "id": "106fc117",
   "metadata": {},
   "outputs": [],
   "source": [
    "import numpy as np\n",
    "from copy import deepcopy\n",
    "import time\n",
    "from pycromanager import Acquisition, Bridge, multi_d_acquisition_events"
   ]
  },
  {
   "cell_type": "code",
   "execution_count": 2,
   "id": "d2239fe7",
   "metadata": {
    "scrolled": true
   },
   "outputs": [
    {
     "name": "stderr",
     "output_type": "stream",
     "text": [
      "C:\\Users\\labelfree\\.conda\\envs\\acq\\lib\\site-packages\\pycromanager\\core.py:258: UserWarning: Version mistmatch between Java ZMQ server and Python client. \n",
      "Java ZMQ server version: 4.0.0\n",
      "Python client expected version: 4.1.0\n",
      " To fix, update to BOTH latest pycromanager and latest micro-manager nightly build\n",
      "  warnings.warn(\n"
     ]
    }
   ],
   "source": [
    "bridge = Bridge()\n",
    "mmc = bridge.get_core()\n",
    "mmStudio = bridge.get_studio()"
   ]
  },
  {
   "cell_type": "code",
   "execution_count": 3,
   "id": "338da446",
   "metadata": {},
   "outputs": [
    {
     "data": {
      "text/plain": [
       "array([], dtype=float64)"
      ]
     },
     "execution_count": 3,
     "metadata": {},
     "output_type": "execute_result"
    }
   ],
   "source": [
    "mm_pos_list = mmStudio.get_position_list_manager().get_position_list()\n",
    "number_of_positions = mm_pos_list.get_number_of_positions()\n",
    "\n",
    "xyz_position_list = [[mm_pos_list.get_position(i).get_x(),\n",
    "                      mm_pos_list.get_position(i).get_y(),\n",
    "                      mm_pos_list.get_position(i).get_z()] \\\n",
    "                    for i in range(number_of_positions)]\n",
    "\n",
    "xyz_position_list = np.around(xyz_position_list, decimals=3)\n",
    "\n",
    "epi_positions = xyz_position_list[:3]\n",
    "lf_epi_positions = xyz_position_list[3:]\n",
    "\n",
    "xyz_position_list"
   ]
  },
  {
   "cell_type": "raw",
   "id": "8b816a31",
   "metadata": {},
   "source": [
    "epi_positions = np.array([[950+x*1000, 12500, 500+x] for x in range(3)])\n",
    "lf_epi_positions = np.array([[950+x*1000, 13500, 501+x] for x in range(3)])\n",
    "np.vstack((epi_positions, lf_epi_positions))"
   ]
  },
  {
   "cell_type": "code",
   "execution_count": 4,
   "id": "5a4638c3",
   "metadata": {},
   "outputs": [],
   "source": [
    "epi_channel = {'group': 'Master Channel', 'config': 'Epi'}\n",
    "epi_exposure = 50\n",
    "\n",
    "lf_channels = [{'group': 'Master Channel', 'config': f'LF-State{i}'} for i in range(5)]\n",
    "lf_exposure = 10\n",
    "\n",
    "# relative z\n",
    "z_start = -5\n",
    "z_end = 5\n",
    "z_step = 0.25\n",
    "z_range = np.arange(z_start, z_end + z_step, z_step)\n",
    "\n",
    "num_time_points  = 1\n",
    "time_interval_s  = 120  # in seconds"
   ]
  },
  {
   "cell_type": "raw",
   "id": "ff144f4e",
   "metadata": {},
   "source": [
    "events = multi_d_acquisition_events(num_time_points=num_time_points, time_interval_s=time_interval_s,\n",
    "                                    z_start=-0.25, z_end=0.25, z_step=0.25,\n",
    "                                    channel_group='Imaging Path', channels=['Epi-illumination', 'Label-free'], channel_exposures_ms=[100, 5],\n",
    "                                    xyz_positions=xyz_position_list,\n",
    "                                    keep_shutter_open_between_z_steps=True,\n",
    "                                    keep_shutter_open_between_channels=False)\n",
    "\n",
    "events"
   ]
  },
  {
   "cell_type": "raw",
   "id": "4ade2bd3",
   "metadata": {},
   "source": [
    "events = []\n",
    "num_epi_positions = len(epi_positions)\n",
    "\n",
    "for t in range(num_time_points):\n",
    "    # epi-only positions\n",
    "    for p_idx, p in enumerate(epi_positions):\n",
    "        for z_idx, z in enumerate(z_range):\n",
    "            events.append(\n",
    "                {\n",
    "                    'axes': {'time': t, 'position':p_idx, 'z':z_idx},\n",
    "                    'min_start_time': t*time_interval_s,\n",
    "                    'x': p[0],\n",
    "                    'y': p[1],\n",
    "                    'z': z,\n",
    "                    'channel': epi_channel,\n",
    "                    'exposure': epi_exposure,\n",
    "                    'keep_shutter_open': True,\n",
    "                })\n",
    "        events[-1]['keep_shutter_open'] = False # close shutter between channels\n",
    "    # epi and lf positions\n",
    "    for p_idx, p in enumerate(lf_epi_positions):\n",
    "        for ch, ch_exposure in zip([epi_channel, lf_channel], [epi_exposure, lf_exposure]):\n",
    "            for z_idx, z in enumerate(z_range):\n",
    "                events.append(\n",
    "                    {\n",
    "                        'axes': {'time': t,'position':p_idx+num_epi_positions, 'z':z_idx},\n",
    "                        'min_start_time': t*time_interval_s,\n",
    "                        'x': p[0],\n",
    "                        'y': p[1],\n",
    "                        'z': z,\n",
    "                        'channel': ch,\n",
    "                        'exposure': ch_exposure,\n",
    "                        'keep_shutter_open': True\n",
    "                    })\n",
    "            events[-1]['keep_shutter_open'] = False # close shutter between channels\n",
    "\n",
    "events"
   ]
  },
  {
   "cell_type": "raw",
   "id": "bed3b78a",
   "metadata": {
    "scrolled": true
   },
   "source": [
    "events = []\n",
    "num_epi_positions = np.shape(epi_positions)[0]\n",
    "\n",
    "for t in range(num_time_points):\n",
    "    \n",
    "    # epi-only positions\n",
    "    for p_idx, p in enumerate(epi_positions):\n",
    "        for z_idx, z in enumerate(p[2]+z_range):\n",
    "            events.append(\n",
    "                {\n",
    "                    'axes': {'time': t, 'position':p_idx, 'z':z_idx},\n",
    "                    'min_start_time': t*time_interval_s,\n",
    "                    'x': p[0],\n",
    "                    'y': p[1],\n",
    "                    'z': z,\n",
    "                    'channel': epi_channel,\n",
    "                    'exposure': epi_exposure,\n",
    "                    'keep_shutter_open': True,\n",
    "                })\n",
    "#         events[-1]['keep_shutter_open'] = False # close shutter between channels\n",
    "\n",
    "    # epi and lf positions\n",
    "    for p_idx, p in enumerate(lf_epi_positions):\n",
    "        \n",
    "        # epi channel\n",
    "        for z_idx, z in enumerate(p[2]+z_range):\n",
    "            events.append(\n",
    "                {\n",
    "                    'axes': {'time': t,'position':p_idx+num_epi_positions, 'z':z_idx},\n",
    "                    'min_start_time': t*time_interval_s,\n",
    "                    'x': p[0],\n",
    "                    'y': p[1],\n",
    "                    'z': z,\n",
    "                    'channel': epi_channel,\n",
    "                    'exposure': epi_exposure,\n",
    "                    'keep_shutter_open': True\n",
    "                })\n",
    "            \n",
    "#         # lf channels, CZ order\n",
    "#         for state in [f'State{i}' for i in range(5)]:\n",
    "#             for z_idx, z in enumerate(z_range):\n",
    "#                 events.append(\n",
    "#                     {\n",
    "#                         'axes': {'time': t,'position':p_idx+num_epi_positions, 'z':z_idx},\n",
    "#                         'min_start_time': t*time_interval_s,\n",
    "#                         'x': p[0],\n",
    "#                         'y': p[1],\n",
    "#                         'z': z,\n",
    "#                         'channel': lf_channel,\n",
    "#                         'exposure': lf_exposure,\n",
    "#                         'properties': [['MeadowlarkLcOpenSource', 'String send to -', state]],\n",
    "#                         'keep_shutter_open': False\n",
    "#                     })\n",
    "        \n",
    "        # lf channels, ZC order\n",
    "        for z_idx, z in enumerate(p[2]+z_range):\n",
    "            for ch in lf_channels:\n",
    "                events.append(\n",
    "                    {\n",
    "                        'axes': {'time': t,'position':p_idx+num_epi_positions, 'z':z_idx},\n",
    "                        'min_start_time': t*time_interval_s,\n",
    "                        'x': p[0],\n",
    "                        'y': p[1],\n",
    "                        'z': z,\n",
    "                        'channel': ch,\n",
    "                        'exposure': lf_exposure,\n",
    "                        'keep_shutter_open': True\n",
    "                    })\n",
    "    events.append({'keep_shutter_open': False})"
   ]
  },
  {
   "cell_type": "code",
   "execution_count": 5,
   "id": "f1329326",
   "metadata": {
    "scrolled": true
   },
   "outputs": [],
   "source": [
    "events = []\n",
    "num_epi_positions = np.shape(epi_positions)[0]\n",
    "\n",
    "for t in range(num_time_points):\n",
    "    \n",
    "    # epi-only positions, z stack events are created by autofocus function\n",
    "    for p_idx, p in enumerate(epi_positions):\n",
    "        events.append(\n",
    "            {\n",
    "                'axes': {'time': t, 'position':p_idx, 'z':0},\n",
    "                'min_start_time': t*time_interval_s,\n",
    "                'x': p[0],\n",
    "                'y': p[1],\n",
    "                'z': p[2],\n",
    "                'channel': epi_channel,\n",
    "                'exposure': epi_exposure,\n",
    "                'keep_shutter_open': False,\n",
    "            })\n",
    "\n",
    "    # epi and lf positions, z stack events are created by autofocus function\n",
    "    for p_idx, p in enumerate(lf_epi_positions):\n",
    "        \n",
    "        # epi channel\n",
    "        events.append(\n",
    "            {\n",
    "                'axes': {'time': t,'position':p_idx+num_epi_positions, 'z':0},\n",
    "                'min_start_time': t*time_interval_s,\n",
    "                'x': p[0],\n",
    "                'y': p[1],\n",
    "                'z': p[2],\n",
    "                'channel': epi_channel,\n",
    "                'exposure': epi_exposure,\n",
    "                'keep_shutter_open': False\n",
    "            })\n",
    "        \n",
    "        # lf channels, ZC order\n",
    "        events.append(\n",
    "            {\n",
    "                'axes': {'time': t,'position':p_idx+num_epi_positions, 'z':0},\n",
    "                'min_start_time': t*time_interval_s,\n",
    "                'x': p[0],\n",
    "                'y': p[1],\n",
    "                'z': p[2],\n",
    "                'channel': lf_channels[0],\n",
    "                'exposure': lf_exposure,\n",
    "                'keep_shutter_open': False\n",
    "            })"
   ]
  },
  {
   "cell_type": "code",
   "execution_count": 6,
   "id": "a75e5ee2",
   "metadata": {},
   "outputs": [
    {
     "data": {
      "text/plain": [
       "[]"
      ]
     },
     "execution_count": 6,
     "metadata": {},
     "output_type": "execute_result"
    }
   ],
   "source": [
    "events"
   ]
  },
  {
   "cell_type": "code",
   "execution_count": 7,
   "id": "4ff197c7",
   "metadata": {},
   "outputs": [],
   "source": [
    "def autofocus_fn(event, bridge, event_queue):\n",
    "    \n",
    "    if not hasattr(autofocus_fn, 'pos_index'):\n",
    "        autofocus_fn.pos_index = event['axes']['position']\n",
    "\n",
    "    # Only run autofocus at new positions (except the first one)\n",
    "    if event['axes']['position'] != autofocus_fn.pos_index:\n",
    "        # get the Micro-Manager core\n",
    "        mmc = bridge.get_core()\n",
    "\n",
    "        # apply autofocus\n",
    "        print(mmc.get_position())\n",
    "        mmc.set_relative_position(-z_start)\n",
    "        print(mmc.get_position())\n",
    "        mmc.full_focus()\n",
    "        print(mmc.get_position())\n",
    "        mmc.set_relative_position(z_start)\n",
    "        print(mmc.get_position())\n",
    "        \n",
    "    # Keep track of last time point on which autofocus ran\n",
    "    autofocus_fn.pos_index = event['axes']['position']\n",
    "\n",
    "    return event"
   ]
  },
  {
   "cell_type": "code",
   "execution_count": 8,
   "id": "e9e4cc71",
   "metadata": {},
   "outputs": [],
   "source": [
    "def demo_autofocus_fn(event, bridge, event_queue):\n",
    "    \n",
    "    if 'axes' in event.keys(): # some events only modify hardware\n",
    "        \n",
    "        if not hasattr(autofocus_fn, 'pos_index'):\n",
    "            autofocus_fn.pos_index = event['axes']['position']\n",
    "            \n",
    "        # Only run autofocus at new positions (except the first one)\n",
    "        if event['axes']['position'] != autofocus_fn.pos_index:\n",
    "            # get the Micro-Manager core\n",
    "            mmc = bridge.get_core()\n",
    "            \n",
    "            # apply autofocus\n",
    "            current_z = mmc.get_position()\n",
    "            print(f'Position before autofocus: {current_z}')\n",
    "            mmc.full_focus()\n",
    "            del_z = np.around(np.random.uniform(), decimals=2)\n",
    "            mmc.set_position(current_z+del_z) # simulate movement after autofocus\n",
    "            print(f'Position after autofocus: {mmc.get_position()}')\n",
    "            \n",
    "#             event['z'] = current_z+del_z\n",
    "        \n",
    "        # Keep track of last time point on which autofocus ran\n",
    "        autofocus_fn.pos_index = event['axes']['position']\n",
    "    \n",
    "    return event"
   ]
  },
  {
   "cell_type": "raw",
   "id": "8a86b491",
   "metadata": {},
   "source": [
    "mmc.set_auto_shutter(True)\n",
    "mmc.set_auto_focus_device('PFS')\n",
    "mmc.set_config('Epi Channel', 'GFP EX466-40 EM525-50')\n",
    "\n",
    "snap_live_manager = mmStudio.get_snap_live_manager()\n",
    "if snap_live_manager.is_live_mode_on():\n",
    "    snap_live_manager.set_live_mode_on(False)\n",
    "\n",
    "with Acquisition(directory=r'D:\\2022_02_08 Beads', name='single_pos_test', post_hardware_hook_fn=autofocus_fn) as acq:\n",
    "    acq.acquire(events)\n",
    "    \n",
    "end_time = time.time()"
   ]
  },
  {
   "cell_type": "raw",
   "id": "76303161",
   "metadata": {},
   "source": [
    "mmc.set_auto_shutter(True)\n",
    "mmc.set_auto_focus_device('DAutoFocus')\n",
    "\n",
    "snap_live_manager = mmStudio.get_snap_live_manager()\n",
    "if snap_live_manager.is_live_mode_on():\n",
    "    snap_live_manager.set_live_mode_on(False)\n",
    "\n",
    "with Acquisition(directory=r'D:', name='demo_pm_test', \n",
    "                 post_hardware_hook_fn=demo_autofocus_fn) as acq:\n",
    "    acq.acquire(events)"
   ]
  },
  {
   "cell_type": "code",
   "execution_count": 9,
   "id": "667950fd",
   "metadata": {},
   "outputs": [],
   "source": [
    "# TODO: autofocus_fn errors out when event doesn't have 'axes' key"
   ]
  },
  {
   "cell_type": "code",
   "execution_count": 5,
   "id": "4e8e6165",
   "metadata": {},
   "outputs": [
    {
     "data": {
      "text/plain": [
       "[{'axes': {'position': 0, 'z': 0}, 'x': 100, 'y': 100, 'z': 50},\n",
       " {'axes': {'position': 1, 'z': 0}, 'x': 110, 'y': 110, 'z': 60}]"
      ]
     },
     "execution_count": 5,
     "metadata": {},
     "output_type": "execute_result"
    }
   ],
   "source": [
    "# v1\n",
    "z_start = -2\n",
    "z_end = 2\n",
    "z_step = 1\n",
    "\n",
    "events = multi_d_acquisition_events(xyz_positions = [[100, 100, 50], [110, 110, 60]])\n",
    "\n",
    "num_positions = 2\n",
    "num_slices = len(np.arange(z_start, z_end + z_step, z_step))\n",
    "num_channels = 1\n",
    "\n",
    "def autofocus_fn(event, bridge, event_queue):\n",
    "    mmc = bridge.get_core()\n",
    "    mmc.full_focus()\n",
    "    \n",
    "    del_z = np.around(np.random.uniform(), decimals=2)\n",
    "    mmc.set_relative_position(del_z)\n",
    "    \n",
    "    pos = mmc.get_position()\n",
    "    z_range = pos + np.arange(z_start, z_end + z_step, z_step)\n",
    "    \n",
    "    event['z'] = z_range[0]\n",
    "    for z_idx, z in enumerate(z_range[1:]):\n",
    "        new_event = deepcopy(event)\n",
    "        new_event['axes']['z'] = z_idx+1\n",
    "        new_event['z'] = z\n",
    "        event_queue.put(new_event)\n",
    "        \n",
    "    return event\n",
    "\n",
    "def hook_fn(event, bridge, event_queue):\n",
    "    if 'axes' in event.keys():\n",
    "        if not hasattr(hook_fn, 'pos_index'):\n",
    "            hook_fn.pos_index = event['axes']['position']\n",
    "            event = autofocus_fn(event, bridge, event_queue)\n",
    "            \n",
    "        if event['axes']['position'] != hook_fn.pos_index:\n",
    "            event = autofocus_fn(event, bridge, event_queue)\n",
    "            \n",
    "        hook_fn.pos_index = event['axes']['position']\n",
    "        \n",
    "        if (\n",
    "            event['axes']['position']==num_positions-1 and \n",
    "            event['axes']['z']==num_slices-1\n",
    "            ):\n",
    "            event_queue.put(None)\n",
    "        \n",
    "    return event\n",
    "\n",
    "events"
   ]
  },
  {
   "cell_type": "code",
   "execution_count": 6,
   "id": "45811129",
   "metadata": {
    "scrolled": true
   },
   "outputs": [],
   "source": [
    "acq =  Acquisition(directory=r'D:', name='demo_pm_test', \n",
    "                   post_hardware_hook_fn=hook_fn)\n",
    "\n",
    "acq.acquire(events)"
   ]
  },
  {
   "cell_type": "code",
   "execution_count": null,
   "id": "0f84efd6",
   "metadata": {},
   "outputs": [],
   "source": []
  }
 ],
 "metadata": {
  "kernelspec": {
   "display_name": "Python 3 (ipykernel)",
   "language": "python",
   "name": "python3"
  },
  "language_info": {
   "codemirror_mode": {
    "name": "ipython",
    "version": 3
   },
   "file_extension": ".py",
   "mimetype": "text/x-python",
   "name": "python",
   "nbconvert_exporter": "python",
   "pygments_lexer": "ipython3",
   "version": "3.7.13"
  }
 },
 "nbformat": 4,
 "nbformat_minor": 5
}
