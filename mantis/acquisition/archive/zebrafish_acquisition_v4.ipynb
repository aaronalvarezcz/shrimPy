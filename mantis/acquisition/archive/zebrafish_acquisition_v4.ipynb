{
 "cells": [
  {
   "cell_type": "code",
   "execution_count": 1,
   "id": "106fc117",
   "metadata": {},
   "outputs": [],
   "source": [
    "import numpy as np\n",
    "from copy import deepcopy\n",
    "import time\n",
    "from pycromanager import Acquisition, Bridge, multi_d_acquisition_events"
   ]
  },
  {
   "cell_type": "code",
   "execution_count": 2,
   "id": "d2239fe7",
   "metadata": {
    "scrolled": true
   },
   "outputs": [
    {
     "name": "stderr",
     "output_type": "stream",
     "text": [
      "C:\\Users\\labelfree\\.conda\\envs\\acq\\lib\\site-packages\\pycromanager\\core.py:258: UserWarning: Version mistmatch between Java ZMQ server and Python client. \n",
      "Java ZMQ server version: 4.0.0\n",
      "Python client expected version: 4.1.0\n",
      " To fix, update to BOTH latest pycromanager and latest micro-manager nightly build\n",
      "  warnings.warn(\n"
     ]
    }
   ],
   "source": [
    "bridge = Bridge()\n",
    "mmc = bridge.get_core()\n",
    "mmStudio = bridge.get_studio()"
   ]
  },
  {
   "cell_type": "code",
   "execution_count": 5,
   "id": "338da446",
   "metadata": {},
   "outputs": [
    {
     "data": {
      "text/plain": [
       "array([[ -5239.21 ,  14579.279,   4567.64 ],\n",
       "       [ -6888.16 ,  14569.429,   4472.52 ],\n",
       "       [ -8051.3  ,  14039.98 ,   4515.96 ],\n",
       "       [-10455.869,  14042.96 ,   4492.7  ],\n",
       "       [ -7875.56 ,  16009.189,   4481.68 ]])"
      ]
     },
     "execution_count": 5,
     "metadata": {},
     "output_type": "execute_result"
    }
   ],
   "source": [
    "mm_pos_list = mmStudio.get_position_list_manager().get_position_list()\n",
    "number_of_positions = mm_pos_list.get_number_of_positions()\n",
    "\n",
    "xyz_position_list = [[mm_pos_list.get_position(i).get_x(),\n",
    "                      mm_pos_list.get_position(i).get_y(),\n",
    "                      mm_pos_list.get_position(i).get_z()] \\\n",
    "                    for i in range(number_of_positions)]\n",
    "\n",
    "# offset = [mm_pos_list.get_position(i).get('PFSOffset').get1_d_position() for i in range(number_of_positions)]\n",
    "\n",
    "xyz_position_list = np.around(xyz_position_list, decimals=3).astype('double')\n",
    "# offset = np.around(offset, decimals=3).astype('double')\n",
    "\n",
    "epi_positions = xyz_position_list[3:]\n",
    "lf_epi_positions = xyz_position_list[:3]\n",
    "\n",
    "# epi_positions = [xyz_position_list[0]]\n",
    "# lf_epi_positions = [xyz_position_list[1]]\n",
    "\n",
    "xyz_position_list"
   ]
  },
  {
   "cell_type": "code",
   "execution_count": 9,
   "id": "5a4638c3",
   "metadata": {},
   "outputs": [],
   "source": [
    "epi_channel = {'group': 'Master Channel', 'config': 'Epi'}\n",
    "epi_exposure = 100\n",
    "\n",
    "lf_channels = [{'group': 'Master Channel', 'config': f'LF-State{i}'} for i in range(5)]\n",
    "lf_exposure = 5\n",
    "\n",
    "# relative z\n",
    "z_start = -50\n",
    "z_end = 50\n",
    "z_step = 0.5\n",
    "z_range = np.arange(z_start, z_end + z_step, z_step)\n",
    "\n",
    "num_time_points  = 5\n",
    "time_interval_s  = 20*60  # in seconds"
   ]
  },
  {
   "cell_type": "code",
   "execution_count": 10,
   "id": "60c35d24",
   "metadata": {
    "scrolled": true
   },
   "outputs": [],
   "source": [
    "events = []\n",
    "num_epi_positions = np.shape(epi_positions)[0]\n",
    "\n",
    "for t in range(num_time_points):\n",
    "    \n",
    "    # epi-only positions\n",
    "    for p_idx, p in enumerate(epi_positions):\n",
    "        for z_idx, z in enumerate(z_range+p[2]):\n",
    "            events.append(\n",
    "                {\n",
    "                    'axes': {'time': t, 'position':p_idx, 'z':z_idx},\n",
    "                    'min_start_time': t*time_interval_s,\n",
    "                    'x': p[0],\n",
    "                    'y': p[1],\n",
    "                    'z': z,\n",
    "                    'channel': epi_channel,\n",
    "                    'exposure': epi_exposure,\n",
    "                    'keep_shutter_open': False,\n",
    "                })\n",
    "\n",
    "    # epi and lf positions\n",
    "    for p_idx, p in enumerate(lf_epi_positions):\n",
    "        \n",
    "        # epi channel, z-first\n",
    "        for z_idx, z in enumerate(z_range+p[2]):\n",
    "            events.append(\n",
    "                {\n",
    "                    'axes': {'time': t,'position':p_idx+num_epi_positions, 'z':z_idx},\n",
    "                    'min_start_time': t*time_interval_s,\n",
    "                    'x': p[0],\n",
    "                    'y': p[1],\n",
    "                    'z': z,\n",
    "                    'channel': epi_channel,\n",
    "                    'exposure': epi_exposure,\n",
    "                    'keep_shutter_open': False\n",
    "                })\n",
    "            \n",
    "        # lf channels, channel-first\n",
    "        for z_idx, z in enumerate(z_range+p[2]):\n",
    "            for ch in lf_channels:\n",
    "                events.append(\n",
    "                    {\n",
    "                        'axes': {'time': t,'position':p_idx+num_epi_positions, 'z':z_idx},\n",
    "                        'min_start_time': t*time_interval_s,\n",
    "                        'x': p[0],\n",
    "                        'y': p[1],\n",
    "                        'z': z,\n",
    "                        'channel': ch,\n",
    "                        'exposure': lf_exposure,\n",
    "                        'keep_shutter_open': False\n",
    "                    })"
   ]
  },
  {
   "cell_type": "code",
   "execution_count": 11,
   "id": "3c122c07",
   "metadata": {
    "scrolled": false
   },
   "outputs": [],
   "source": [
    "mmc.set_auto_shutter(True)\n",
    "# mmc.set_auto_focus_device('PFS')\n",
    "mmc.set_config('Epi Channel', 'GFP EX466-40 EM525-50')\n",
    "\n",
    "snap_live_manager = mmStudio.get_snap_live_manager()\n",
    "if snap_live_manager.is_live_mode_on():\n",
    "    snap_live_manager.set_live_mode_on(False)\n",
    "\n",
    "with Acquisition(directory=r'D:\\2022_02_16 Zebrafish v2', name='zebrafish_timeseries_t2') as acq:\n",
    "    acq.acquire(events)"
   ]
  },
  {
   "cell_type": "code",
   "execution_count": null,
   "id": "413ac8b4",
   "metadata": {},
   "outputs": [],
   "source": []
  }
 ],
 "metadata": {
  "kernelspec": {
   "display_name": "Python 3 (ipykernel)",
   "language": "python",
   "name": "python3"
  },
  "language_info": {
   "codemirror_mode": {
    "name": "ipython",
    "version": 3
   },
   "file_extension": ".py",
   "mimetype": "text/x-python",
   "name": "python",
   "nbconvert_exporter": "python",
   "pygments_lexer": "ipython3",
   "version": "3.7.13"
  }
 },
 "nbformat": 4,
 "nbformat_minor": 5
}
